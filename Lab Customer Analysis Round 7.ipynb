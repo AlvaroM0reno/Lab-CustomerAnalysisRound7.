{
 "cells": [
  {
   "cell_type": "markdown",
   "id": "b6edf5a7",
   "metadata": {},
   "source": [
    "Lab | Customer Analysis Round 7\n",
    "For this lab, we still keep using the marketing_customer_analysis.csv file that you can find in the files_for_lab folder.\n",
    "\n",
    "Remember the previous rounds. Follow the steps as shown in previous lectures and try to improve the accuracy of the model. Include both categorical columns in the exercise. Some approaches you can try in this exercise:\n",
    "\n",
    "- use the concept of multicollinearity and remove insignificant variables\n",
    "- use a different method of scaling the numerical variables\n",
    "- use a different ratio of train test split\n",
    "- use the transformation on numerical columns which align it more towards a normal distribution\n",
    "- Get the data\n",
    "- We are using the marketing_customer_analysis.csv file.\n",
    "\n",
    "1. Dealing with the data\n",
    "Already done in rounds 2 to 7.\n",
    "\n",
    "Bonus: Build a function, from round 2 and round 7, to clean and process the data.\n",
    "\n",
    "2. Explore the data\n",
    "Done in the round 3.\n",
    "\n",
    "3. Modeling\n",
    "Description:\n",
    "\n",
    "Try to improve the linear regression model."
   ]
  },
  {
   "cell_type": "code",
   "execution_count": 4,
   "id": "ba5d1ca2",
   "metadata": {},
   "outputs": [
    {
     "name": "stdout",
     "output_type": "stream",
     "text": [
      "     Customer       State Response Education Effective To Date  \\\n",
      "0     BU79786  Washington       No  Bachelor           2/24/11   \n",
      "1     QZ44356     Arizona       No  Bachelor           1/31/11   \n",
      "2     AI49188      Nevada       No  Bachelor           2/19/11   \n",
      "3     WW63253  California       No  Bachelor           1/20/11   \n",
      "4     HB64268  Washington       No  Bachelor            2/3/11   \n",
      "...       ...         ...      ...       ...               ...   \n",
      "9129  LA72316  California       No  Bachelor           2/10/11   \n",
      "9130  PK87824  California      Yes   College           2/12/11   \n",
      "9131  TD14365  California       No  Bachelor            2/6/11   \n",
      "9132  UP19263  California       No   College            2/3/11   \n",
      "9133  Y167826  California       No   College           2/14/11   \n",
      "\n",
      "     EmploymentStatus Gender Location Code Marital Status     Policy Type  \\\n",
      "0            Employed      F      Suburban        Married  Corporate Auto   \n",
      "1          Unemployed      F      Suburban         Single   Personal Auto   \n",
      "2            Employed      F      Suburban        Married   Personal Auto   \n",
      "3          Unemployed      M      Suburban        Married  Corporate Auto   \n",
      "4            Employed      M         Rural         Single   Personal Auto   \n",
      "...               ...    ...           ...            ...             ...   \n",
      "9129         Employed      M         Urban        Married   Personal Auto   \n",
      "9130         Employed      F      Suburban       Divorced  Corporate Auto   \n",
      "9131       Unemployed      M      Suburban         Single  Corporate Auto   \n",
      "9132         Employed      M      Suburban        Married   Personal Auto   \n",
      "9133       Unemployed      M      Suburban         Single  Corporate Auto   \n",
      "\n",
      "            Policy Renew Offer Type Sales Channel  Vehicle Class Vehicle Size  \\\n",
      "0     Corporate L3           Offer1         Agent   Two-Door Car      Medsize   \n",
      "1      Personal L3           Offer3         Agent  Four-Door Car      Medsize   \n",
      "2      Personal L3           Offer1         Agent   Two-Door Car      Medsize   \n",
      "3     Corporate L2           Offer1   Call Center            SUV      Medsize   \n",
      "4      Personal L1           Offer1         Agent  Four-Door Car      Medsize   \n",
      "...            ...              ...           ...            ...          ...   \n",
      "9129   Personal L1           Offer2           Web  Four-Door Car      Medsize   \n",
      "9130  Corporate L3           Offer1        Branch  Four-Door Car      Medsize   \n",
      "9131  Corporate L2           Offer1        Branch  Four-Door Car      Medsize   \n",
      "9132   Personal L2           Offer3        Branch  Four-Door Car        Large   \n",
      "9133  Corporate L3           Offer4   Call Center   Two-Door Car      Medsize   \n",
      "\n",
      "      Basic  Extended  Premium  \n",
      "0      True     False    False  \n",
      "1     False      True    False  \n",
      "2     False     False     True  \n",
      "3      True     False    False  \n",
      "4      True     False    False  \n",
      "...     ...       ...      ...  \n",
      "9129   True     False    False  \n",
      "9130  False      True    False  \n",
      "9131  False      True    False  \n",
      "9132  False      True    False  \n",
      "9133  False      True    False  \n",
      "\n",
      "[9134 rows x 18 columns]\n"
     ]
    },
    {
     "data": {
      "text/plain": [
       "array(['Divorced', 'Married', 'Single'], dtype=object)"
      ]
     },
     "execution_count": 4,
     "metadata": {},
     "output_type": "execute_result"
    }
   ],
   "source": [
    "import pandas as pd\n",
    "df=pd.read_csv(r\"C:\\Users\\usuario\\Desktop\\Ironhacks\\marketing_customer_analysis.csv\")\n",
    "df=df.dropna()\n",
    "numericos=df.select_dtypes(include=[\"int64\", \"float64\"])\n",
    "categoricos=df.select_dtypes(exclude=[\"int64\", \"float64\"])\n",
    "correlaciones=numericos.corr()\n",
    "correlaciones\n",
    "x = df.drop(columns=\"Customer Lifetime Value\") # Cojo todo menos customer lifetime value\n",
    "y = df[\"Customer Lifetime Value\"] # Cojo solo customer lifetime value\n",
    "from sklearn.preprocessing import MinMaxScaler #Has de importar esta libreria para normalizar\n",
    "scaler=MinMaxScaler()\n",
    "nomalized_df=scaler.fit_transform(df.select_dtypes(include=[\"int64\", \"float64\"]))\n",
    "response_code = pd.get_dummies(categoricos['Coverage'])  # los categoricos ya los definiste antes\n",
    "# Concatenar las nuevas columnas codificadas con el DataFrame original\n",
    "categoricos= pd.concat([categoricos, response_code], axis=1)\n",
    "# Eliminar la columna original de la categoría, ya que ya está codificada\n",
    "categoricos.drop('Coverage', axis=1, inplace=True)\n",
    "# Mostrar el DataFrame resultante\n",
    "print(categoricos)\n",
    "from sklearn.preprocessing import LabelEncoder\n",
    "\n",
    "#Este objeto se utiliza para transformar etiquetas categóricas en números \n",
    "# --> útil en preprocesamiento de datos para algoritmos de aprendizaje automático.\n",
    "label_encoder = LabelEncoder()\n",
    "\n",
    "# Aplicamos el Label Encoding a las etiquetas\n",
    "    #El objeto LabelEncoder codifica una columna específica llamada \"Marital Status\" de un DataFrame categoricos1:\n",
    "categoricos[\"Marital Status\"] = label_encoder.fit_transform(categoricos[\"Marital Status\"])\n",
    "# Creamos una instancia del LabelEncoder y lo ajustamos a las etiquetas originales\n",
    "codificaciones = label_encoder.fit_transform(df[\"Marital Status\"])\n",
    "# Obtenemos las categorías originales\n",
    "categorias_originales = label_encoder.classes_\n",
    "categorias_originales"
   ]
  },
  {
   "cell_type": "code",
   "execution_count": 5,
   "id": "86fa4dd3",
   "metadata": {},
   "outputs": [],
   "source": [
    "x=x[[\"Income\", \"Monthly Premium Auto\", \"Months Since Last Claim\", \"Months Since Policy Inception\", \"Number of Open Complaints\", \"Number of Policies\", \"Total Claim Amount\"]]"
   ]
  },
  {
   "cell_type": "code",
   "execution_count": 6,
   "id": "8bc1bbe0",
   "metadata": {},
   "outputs": [
    {
     "name": "stdout",
     "output_type": "stream",
     "text": [
      "                        Variable        VIF\n",
      "0                         Income   2.829624\n",
      "1           Monthly Premium Auto  12.406466\n",
      "2        Months Since Last Claim   2.784210\n",
      "3  Months Since Policy Inception   3.267690\n",
      "4      Number of Open Complaints   1.165267\n",
      "5             Number of Policies   2.296918\n",
      "6             Total Claim Amount   6.664016\n"
     ]
    }
   ],
   "source": [
    "# Ahora intentamos analizar colinearity con VIF:\n",
    "import numpy as np\n",
    "from statsmodels.stats.outliers_influence import variance_inflation_factor\n",
    "from statsmodels.tools.tools import add_constant\n",
    "\n",
    "# Añadir una columna constante al DataFrame para el término de intercepción\n",
    "# x = add_constant(numericos)\n",
    "# Calcular el VIF para cada variable\n",
    "vif_data = pd.DataFrame()\n",
    "vif_data[\"Variable\"] = x.columns\n",
    "vif_data[\"VIF\"] = [variance_inflation_factor(x.values, i) for i in range(7)]\n",
    "\n",
    "# Imprimir el DataFrame con los resultados del VIF\n",
    "print(vif_data)"
   ]
  },
  {
   "cell_type": "code",
   "execution_count": 7,
   "id": "1ba78532",
   "metadata": {},
   "outputs": [
    {
     "data": {
      "text/html": [
       "<div>\n",
       "<style scoped>\n",
       "    .dataframe tbody tr th:only-of-type {\n",
       "        vertical-align: middle;\n",
       "    }\n",
       "\n",
       "    .dataframe tbody tr th {\n",
       "        vertical-align: top;\n",
       "    }\n",
       "\n",
       "    .dataframe thead th {\n",
       "        text-align: right;\n",
       "    }\n",
       "</style>\n",
       "<table border=\"1\" class=\"dataframe\">\n",
       "  <thead>\n",
       "    <tr style=\"text-align: right;\">\n",
       "      <th></th>\n",
       "      <th>Customer Lifetime Value</th>\n",
       "      <th>Income</th>\n",
       "      <th>Monthly Premium Auto</th>\n",
       "      <th>Months Since Last Claim</th>\n",
       "      <th>Months Since Policy Inception</th>\n",
       "      <th>Number of Open Complaints</th>\n",
       "      <th>Number of Policies</th>\n",
       "      <th>Total Claim Amount</th>\n",
       "    </tr>\n",
       "  </thead>\n",
       "  <tbody>\n",
       "    <tr>\n",
       "      <th>0</th>\n",
       "      <td>2763.519279</td>\n",
       "      <td>56274</td>\n",
       "      <td>69</td>\n",
       "      <td>32</td>\n",
       "      <td>5</td>\n",
       "      <td>0</td>\n",
       "      <td>1</td>\n",
       "      <td>384.811147</td>\n",
       "    </tr>\n",
       "    <tr>\n",
       "      <th>1</th>\n",
       "      <td>6979.535903</td>\n",
       "      <td>0</td>\n",
       "      <td>94</td>\n",
       "      <td>13</td>\n",
       "      <td>42</td>\n",
       "      <td>0</td>\n",
       "      <td>8</td>\n",
       "      <td>1131.464935</td>\n",
       "    </tr>\n",
       "    <tr>\n",
       "      <th>2</th>\n",
       "      <td>12887.431650</td>\n",
       "      <td>48767</td>\n",
       "      <td>108</td>\n",
       "      <td>18</td>\n",
       "      <td>38</td>\n",
       "      <td>0</td>\n",
       "      <td>2</td>\n",
       "      <td>566.472247</td>\n",
       "    </tr>\n",
       "    <tr>\n",
       "      <th>3</th>\n",
       "      <td>7645.861827</td>\n",
       "      <td>0</td>\n",
       "      <td>106</td>\n",
       "      <td>18</td>\n",
       "      <td>65</td>\n",
       "      <td>0</td>\n",
       "      <td>7</td>\n",
       "      <td>529.881344</td>\n",
       "    </tr>\n",
       "    <tr>\n",
       "      <th>4</th>\n",
       "      <td>2813.692575</td>\n",
       "      <td>43836</td>\n",
       "      <td>73</td>\n",
       "      <td>12</td>\n",
       "      <td>44</td>\n",
       "      <td>0</td>\n",
       "      <td>1</td>\n",
       "      <td>138.130879</td>\n",
       "    </tr>\n",
       "    <tr>\n",
       "      <th>...</th>\n",
       "      <td>...</td>\n",
       "      <td>...</td>\n",
       "      <td>...</td>\n",
       "      <td>...</td>\n",
       "      <td>...</td>\n",
       "      <td>...</td>\n",
       "      <td>...</td>\n",
       "      <td>...</td>\n",
       "    </tr>\n",
       "    <tr>\n",
       "      <th>9129</th>\n",
       "      <td>23405.987980</td>\n",
       "      <td>71941</td>\n",
       "      <td>73</td>\n",
       "      <td>18</td>\n",
       "      <td>89</td>\n",
       "      <td>0</td>\n",
       "      <td>2</td>\n",
       "      <td>198.234764</td>\n",
       "    </tr>\n",
       "    <tr>\n",
       "      <th>9130</th>\n",
       "      <td>3096.511217</td>\n",
       "      <td>21604</td>\n",
       "      <td>79</td>\n",
       "      <td>14</td>\n",
       "      <td>28</td>\n",
       "      <td>0</td>\n",
       "      <td>1</td>\n",
       "      <td>379.200000</td>\n",
       "    </tr>\n",
       "    <tr>\n",
       "      <th>9131</th>\n",
       "      <td>8163.890428</td>\n",
       "      <td>0</td>\n",
       "      <td>85</td>\n",
       "      <td>9</td>\n",
       "      <td>37</td>\n",
       "      <td>3</td>\n",
       "      <td>2</td>\n",
       "      <td>790.784983</td>\n",
       "    </tr>\n",
       "    <tr>\n",
       "      <th>9132</th>\n",
       "      <td>7524.442436</td>\n",
       "      <td>21941</td>\n",
       "      <td>96</td>\n",
       "      <td>34</td>\n",
       "      <td>3</td>\n",
       "      <td>0</td>\n",
       "      <td>3</td>\n",
       "      <td>691.200000</td>\n",
       "    </tr>\n",
       "    <tr>\n",
       "      <th>9133</th>\n",
       "      <td>2611.836866</td>\n",
       "      <td>0</td>\n",
       "      <td>77</td>\n",
       "      <td>3</td>\n",
       "      <td>90</td>\n",
       "      <td>0</td>\n",
       "      <td>1</td>\n",
       "      <td>369.600000</td>\n",
       "    </tr>\n",
       "  </tbody>\n",
       "</table>\n",
       "<p>9134 rows × 8 columns</p>\n",
       "</div>"
      ],
      "text/plain": [
       "      Customer Lifetime Value  Income  Monthly Premium Auto  \\\n",
       "0                 2763.519279   56274                    69   \n",
       "1                 6979.535903       0                    94   \n",
       "2                12887.431650   48767                   108   \n",
       "3                 7645.861827       0                   106   \n",
       "4                 2813.692575   43836                    73   \n",
       "...                       ...     ...                   ...   \n",
       "9129             23405.987980   71941                    73   \n",
       "9130              3096.511217   21604                    79   \n",
       "9131              8163.890428       0                    85   \n",
       "9132              7524.442436   21941                    96   \n",
       "9133              2611.836866       0                    77   \n",
       "\n",
       "      Months Since Last Claim  Months Since Policy Inception  \\\n",
       "0                          32                              5   \n",
       "1                          13                             42   \n",
       "2                          18                             38   \n",
       "3                          18                             65   \n",
       "4                          12                             44   \n",
       "...                       ...                            ...   \n",
       "9129                       18                             89   \n",
       "9130                       14                             28   \n",
       "9131                        9                             37   \n",
       "9132                       34                              3   \n",
       "9133                        3                             90   \n",
       "\n",
       "      Number of Open Complaints  Number of Policies  Total Claim Amount  \n",
       "0                             0                   1          384.811147  \n",
       "1                             0                   8         1131.464935  \n",
       "2                             0                   2          566.472247  \n",
       "3                             0                   7          529.881344  \n",
       "4                             0                   1          138.130879  \n",
       "...                         ...                 ...                 ...  \n",
       "9129                          0                   2          198.234764  \n",
       "9130                          0                   1          379.200000  \n",
       "9131                          3                   2          790.784983  \n",
       "9132                          0                   3          691.200000  \n",
       "9133                          0                   1          369.600000  \n",
       "\n",
       "[9134 rows x 8 columns]"
      ]
     },
     "execution_count": 7,
     "metadata": {},
     "output_type": "execute_result"
    }
   ],
   "source": [
    "numericos"
   ]
  },
  {
   "cell_type": "code",
   "execution_count": 8,
   "id": "36f94b61",
   "metadata": {},
   "outputs": [],
   "source": [
    "# Segun los resuktados, VIF>5 --> multicolinearity y debes eliminar\n",
    "x1=x[[\"Income\", \"Months Since Last Claim\", \"Months Since Policy Inception\", \"Number of Open Complaints\", \"Number of Policies\", \"Total Claim Amount\"]]"
   ]
  },
  {
   "cell_type": "code",
   "execution_count": 9,
   "id": "331dffe1",
   "metadata": {},
   "outputs": [],
   "source": [
    "from sklearn.model_selection import train_test_split\n",
    "# Problema: dentro de x hay vbles categoricas asi que vamos a definir x1 DF sin categoricos:\n",
    "x1=x.select_dtypes(exclude=[\"object\"])\n",
    "# Dividir los datos en un conjunto de entrenamiento (80%) y un conjunto de prueba (20%)\n",
    "x1_train, x1_test, y_train, y_test = train_test_split(x1, y, test_size=0.2, random_state=42)\n",
    "# x (vble indep), y (vble dep)\n",
    "#test_size (tamaño del conjunto d eprueba, ahora 20%)\n",
    "#random_state(semilla para garantizar que la división sea reproducible. Puedes cambiar este valor o dejarlo en None.)\n",
    "# Para entrenar el modelo:\n",
    "from sklearn.linear_model import LinearRegression\n",
    "# Paso 2: Instancia el modelo\n",
    "modelo = LinearRegression()\n",
    "\n",
    "# Paso 3: Entrena el modelo\n",
    "modelo.fit(x1_train, y_train)\n",
    "\n",
    "# Ahora el modelo ha sido entrenado en los datos de entrenamiento\n",
    "\n",
    "coef_regresion=modelo.coef_[0] #corte en abcisas\n",
    "pendiente=modelo.intercept_\n",
    "y_pred = modelo.predict(x1)"
   ]
  },
  {
   "cell_type": "code",
   "execution_count": 10,
   "id": "e51ef33d",
   "metadata": {},
   "outputs": [
    {
     "data": {
      "image/png": "[encoded data removed]",
      "text/plain": [
       "<Figure size 640x480 with 1 Axes>"
      ]
     },
     "metadata": {},
     "output_type": "display_data"
    }
   ],
   "source": [
    "import matplotlib.pyplot as plt\n",
    "# Scatter plot de los datos\n",
    "plt.scatter(x1[\"Monthly Premium Auto\"], y, color='blue', label='Datos')  \n",
    "\n",
    "# Trazar la línea de regresión\n",
    "plt.plot(x1[\"Monthly Premium Auto\"], y_pred, color='red', label='Regresión Lineal')  \n",
    "\n",
    "plt.xlabel('x1')  # Etiqueta del eje x\n",
    "plt.ylabel('y')  # Etiqueta del eje y\n",
    "plt.title('Regresión Lineal')  # Título del gráfico\n",
    "plt.grid(True)  # Mostrar cuadrícula\n",
    "plt.legend()  # Mostrar leyenda\n",
    "plt.show()  # Mostrar gráfico"
   ]
  },
  {
   "cell_type": "code",
   "execution_count": 11,
   "id": "f63e8d30",
   "metadata": {},
   "outputs": [
    {
     "name": "stdout",
     "output_type": "stream",
     "text": [
      "R cuadrado del modelo: 0.16004618789227099\n"
     ]
    }
   ],
   "source": [
    "# 11. Model Validation. Description:\n",
    "    # 11.1. R2:\n",
    "from sklearn.metrics import r2_score\n",
    "\n",
    "# Supongamos que tienes tus datos de predicción y de verdad\n",
    "# y_pred = ...\n",
    "# y_true = ...\n",
    "\n",
    "# Calcular el R cuadrado\n",
    "r_cuadrado = r2_score(y, y_pred)\n",
    "\n",
    "print(\"R cuadrado del modelo:\", r_cuadrado)\n",
    "# El R cuadrado varía entre 0-1 (nula-total explicacion de la varibilidad). \n",
    "# R cuadrado no es una medida perfecta de la bondad del ajuste de un modelo. \n",
    "#Puede ser engañoso. Por lo tanto, es recomendable complementar el analisis con otras métricas de evaluación como:\n",
    "#error cuadrático medio (MSE), error absoluto medio (MAE)para obtener una imagen más completa del rendimiento del modelo."
   ]
  },
  {
   "cell_type": "code",
   "execution_count": 12,
   "id": "ec948127",
   "metadata": {},
   "outputs": [
    {
     "name": "stdout",
     "output_type": "stream",
     "text": [
      "Error cuadrático medio (MSE): 39650042.59165002\n"
     ]
    }
   ],
   "source": [
    "# 11.2. MSE --> error cuadrático medio\n",
    "from sklearn.metrics import mean_squared_error\n",
    "# Calcular el error cuadrático medio (MSE)\n",
    "mse = mean_squared_error(y, y_pred)\n",
    "print(\"Error cuadrático medio (MSE):\", mse)"
   ]
  },
  {
   "cell_type": "code",
   "execution_count": 13,
   "id": "3d5c207f",
   "metadata": {},
   "outputs": [
    {
     "name": "stdout",
     "output_type": "stream",
     "text": [
      "RMSE: 6296.827978565876\n"
     ]
    }
   ],
   "source": [
    "import numpy as np\n",
    "# 11.3. RMSE --> MRoot Mean Squared Error\n",
    "rmse = np.sqrt(mse)\n",
    "print(\"RMSE:\", rmse)"
   ]
  },
  {
   "cell_type": "code",
   "execution_count": 14,
   "id": "1e2cd151",
   "metadata": {},
   "outputs": [
    {
     "name": "stdout",
     "output_type": "stream",
     "text": [
      "MAE: 3905.17051077059\n"
     ]
    }
   ],
   "source": [
    "from sklearn.metrics import mean_absolute_error\n",
    "# 11.4. MAE --> Mean Absolut error\n",
    "mae = mean_absolute_error(y, y_pred)\n",
    "print(\"MAE:\", mae)"
   ]
  },
  {
   "cell_type": "code",
   "execution_count": null,
   "id": "eb968b31",
   "metadata": {},
   "outputs": [],
   "source": []
  }
 ],
 "metadata": {
  "kernelspec": {
   "display_name": "Python 3 (ipykernel)",
   "language": "python",
   "name": "python3"
  },
  "language_info": {
   "codemirror_mode": {
    "name": "ipython",
    "version": 3
   },
   "file_extension": ".py",
   "mimetype": "text/x-python",
   "name": "python",
   "nbconvert_exporter": "python",
   "pygments_lexer": "ipython3",
   "version": "3.12.2"
  }
 },
 "nbformat": 4,
 "nbformat_minor": 5
}
